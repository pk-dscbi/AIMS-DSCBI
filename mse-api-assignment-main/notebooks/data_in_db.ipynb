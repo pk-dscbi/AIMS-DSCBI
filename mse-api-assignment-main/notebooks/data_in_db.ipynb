{
 "cells": [
  {
   "cell_type": "code",
   "execution_count": 2,
   "id": "c9e5e84b",
   "metadata": {},
   "outputs": [],
   "source": [
    "import pandas as pd\n",
    "from pathlib import Path\n",
    "from sqlalchemy import create_engine, text\n",
    "from dotenv import load_dotenv\n",
    "import os"
   ]
  },
  {
   "cell_type": "code",
   "execution_count": 3,
   "id": "889c1c13",
   "metadata": {},
   "outputs": [],
   "source": [
    "DIR_WORKSPACE = Path.cwd().parents[0]\n",
    "DIR_DATA =DIR_WORKSPACE / \"data\"\n",
    "DIR_REPORTS_CSV = DIR_DATA / \"mse-daily-data\"\n",
    "DIR_OUTPUT =DIR_DATA / \"output_combined_data\"\n",
    "#\"/home/risa/Desktop/RISA/TRAININGS/DSCBI/Python Class/projects/AIMS-DSCBI/mse-api-assignment-main/data\""
   ]
  },
  {
   "cell_type": "code",
   "execution_count": 4,
   "id": "e2b1266a",
   "metadata": {},
   "outputs": [
    {
     "name": "stdout",
     "output_type": "stream",
     "text": [
      "Combined shape: (17872, 19)\n",
      "Combined CSV saved at: /home/risa/Desktop/RISA/TRAININGS/DSCBI/Python Class/projects/AIMS-DSCBI/mse-api-assignment-main/data/output_combined_data/combined_reports.csv\n"
     ]
    }
   ],
   "source": [
    "# Collect and combine all csv files\n",
    "all_csv_files = DIR_REPORTS_CSV.glob(\"*.csv\") # all csv in the Directory\n",
    "df_list = [pd.read_csv(f) for f in all_csv_files]\n",
    "if df_list:  # make sure it's not empty\n",
    "    combined_df = pd.concat(df_list, ignore_index=True)\n",
    "    combined_df['counter_id'] = range(1, len(combined_df['counter_id']) + 1)\n",
    "    print(\"Combined shape:\", combined_df.shape)\n",
    "\n",
    "    # Save to a single CSV\n",
    "    output_file = DIR_OUTPUT / \"combined_reports.csv\"\n",
    "    combined_df.to_csv(output_file, index=False)\n",
    "    print(\"Combined CSV saved at:\", output_file)\n",
    "else:\n",
    "    print(\"No CSV files found in\", DIR_REPORTS_CSV)"
   ]
  },
  {
   "cell_type": "code",
   "execution_count": 8,
   "id": "17e2e64f",
   "metadata": {},
   "outputs": [
    {
     "data": {
      "application/vnd.microsoft.datawrangler.viewer.v0+json": {
       "columns": [
        {
         "name": "index",
         "rawType": "int64",
         "type": "integer"
        },
        {
         "name": "counter_id",
         "rawType": "int64",
         "type": "integer"
        },
        {
         "name": "counter",
         "rawType": "object",
         "type": "string"
        },
        {
         "name": "daily_range_high",
         "rawType": "float64",
         "type": "float"
        },
        {
         "name": "daily_range_low",
         "rawType": "float64",
         "type": "float"
        },
        {
         "name": "buy_price",
         "rawType": "float64",
         "type": "float"
        },
        {
         "name": "sell_price",
         "rawType": "float64",
         "type": "float"
        },
        {
         "name": "previous_closing_price",
         "rawType": "float64",
         "type": "float"
        },
        {
         "name": "today_closing_price",
         "rawType": "float64",
         "type": "float"
        },
        {
         "name": "volume_traded",
         "rawType": "float64",
         "type": "float"
        },
        {
         "name": "dividend_mk",
         "rawType": "float64",
         "type": "float"
        },
        {
         "name": "dividend_yield_pct",
         "rawType": "float64",
         "type": "float"
        },
        {
         "name": "earnings_yield_pct",
         "rawType": "float64",
         "type": "float"
        },
        {
         "name": "pe_ratio",
         "rawType": "float64",
         "type": "float"
        },
        {
         "name": "pbv_ratio",
         "rawType": "float64",
         "type": "float"
        },
        {
         "name": "market_capitalization_mkmn",
         "rawType": "float64",
         "type": "float"
        },
        {
         "name": "profit_after_tax_mkmn",
         "rawType": "float64",
         "type": "float"
        },
        {
         "name": "num_shares_issue",
         "rawType": "float64",
         "type": "float"
        },
        {
         "name": "trade_date",
         "rawType": "object",
         "type": "string"
        },
        {
         "name": "print_time",
         "rawType": "object",
         "type": "string"
        }
       ],
       "ref": "603c90e7-f6a3-422f-913e-51e29d2c0e31",
       "rows": [
        [
         "0",
         "1",
         "AIRTEL",
         "100.09",
         "100.09",
         "100.09",
         "0.0",
         "100.08",
         "100.09",
         "5300.0",
         "2.5",
         "2.5",
         "3.35",
         "29.82",
         "29.12",
         "1100990.0",
         "36925.31",
         "11000000000.0",
         "2023-08-09",
         "14:32:54"
        ],
        [
         "1",
         "2",
         "BHL",
         null,
         null,
         "10.06",
         "0.0",
         "10.06",
         "10.06",
         "0.0",
         "0.0",
         "0.0",
         "-3.44",
         "-29.09",
         "1.28",
         "8447.89",
         "-290.43",
         "839750705.0",
         "2023-08-09",
         "14:32:54"
        ],
        [
         "2",
         "3",
         "FDHB",
         "73.51",
         "73.51",
         "75.0",
         "0.0",
         "72.97",
         "73.51",
         "70328.0",
         "2.19",
         "2.98",
         "4.52",
         "22.12",
         "12.12",
         "507294.81",
         "22931.78",
         "6901031250.0",
         "2023-08-09",
         "14:32:54"
        ],
        [
         "3",
         "4",
         "FMBCH",
         "340.0",
         "340.0",
         "340.0",
         "0.0",
         "325.09",
         "340.0",
         "973.0",
         "5.03",
         "1.48",
         "4.5",
         "22.24",
         "6.37",
         "835805.0",
         "37581.97",
         "2458250000.0",
         "2023-08-09",
         "14:32:54"
        ],
        [
         "4",
         "5",
         "ICON",
         null,
         null,
         "0.0",
         "18.97",
         "18.97",
         "18.97",
         "0.0",
         "0.25",
         "1.32",
         "13.18",
         "7.59",
         "1.23",
         "126719.6",
         "16706.11",
         "6680000000.0",
         "2023-08-09",
         "14:32:54"
        ]
       ],
       "shape": {
        "columns": 19,
        "rows": 5
       }
      },
      "text/html": [
       "<div>\n",
       "<style scoped>\n",
       "    .dataframe tbody tr th:only-of-type {\n",
       "        vertical-align: middle;\n",
       "    }\n",
       "\n",
       "    .dataframe tbody tr th {\n",
       "        vertical-align: top;\n",
       "    }\n",
       "\n",
       "    .dataframe thead th {\n",
       "        text-align: right;\n",
       "    }\n",
       "</style>\n",
       "<table border=\"1\" class=\"dataframe\">\n",
       "  <thead>\n",
       "    <tr style=\"text-align: right;\">\n",
       "      <th></th>\n",
       "      <th>counter_id</th>\n",
       "      <th>counter</th>\n",
       "      <th>daily_range_high</th>\n",
       "      <th>daily_range_low</th>\n",
       "      <th>buy_price</th>\n",
       "      <th>sell_price</th>\n",
       "      <th>previous_closing_price</th>\n",
       "      <th>today_closing_price</th>\n",
       "      <th>volume_traded</th>\n",
       "      <th>dividend_mk</th>\n",
       "      <th>dividend_yield_pct</th>\n",
       "      <th>earnings_yield_pct</th>\n",
       "      <th>pe_ratio</th>\n",
       "      <th>pbv_ratio</th>\n",
       "      <th>market_capitalization_mkmn</th>\n",
       "      <th>profit_after_tax_mkmn</th>\n",
       "      <th>num_shares_issue</th>\n",
       "      <th>trade_date</th>\n",
       "      <th>print_time</th>\n",
       "    </tr>\n",
       "  </thead>\n",
       "  <tbody>\n",
       "    <tr>\n",
       "      <th>0</th>\n",
       "      <td>1</td>\n",
       "      <td>AIRTEL</td>\n",
       "      <td>100.09</td>\n",
       "      <td>100.09</td>\n",
       "      <td>100.09</td>\n",
       "      <td>0.00</td>\n",
       "      <td>100.08</td>\n",
       "      <td>100.09</td>\n",
       "      <td>5300.0</td>\n",
       "      <td>2.50</td>\n",
       "      <td>2.50</td>\n",
       "      <td>3.35</td>\n",
       "      <td>29.82</td>\n",
       "      <td>29.12</td>\n",
       "      <td>1100990.00</td>\n",
       "      <td>36925.31</td>\n",
       "      <td>1.100000e+10</td>\n",
       "      <td>2023-08-09</td>\n",
       "      <td>14:32:54</td>\n",
       "    </tr>\n",
       "    <tr>\n",
       "      <th>1</th>\n",
       "      <td>2</td>\n",
       "      <td>BHL</td>\n",
       "      <td>NaN</td>\n",
       "      <td>NaN</td>\n",
       "      <td>10.06</td>\n",
       "      <td>0.00</td>\n",
       "      <td>10.06</td>\n",
       "      <td>10.06</td>\n",
       "      <td>0.0</td>\n",
       "      <td>0.00</td>\n",
       "      <td>0.00</td>\n",
       "      <td>-3.44</td>\n",
       "      <td>-29.09</td>\n",
       "      <td>1.28</td>\n",
       "      <td>8447.89</td>\n",
       "      <td>-290.43</td>\n",
       "      <td>8.397507e+08</td>\n",
       "      <td>2023-08-09</td>\n",
       "      <td>14:32:54</td>\n",
       "    </tr>\n",
       "    <tr>\n",
       "      <th>2</th>\n",
       "      <td>3</td>\n",
       "      <td>FDHB</td>\n",
       "      <td>73.51</td>\n",
       "      <td>73.51</td>\n",
       "      <td>75.00</td>\n",
       "      <td>0.00</td>\n",
       "      <td>72.97</td>\n",
       "      <td>73.51</td>\n",
       "      <td>70328.0</td>\n",
       "      <td>2.19</td>\n",
       "      <td>2.98</td>\n",
       "      <td>4.52</td>\n",
       "      <td>22.12</td>\n",
       "      <td>12.12</td>\n",
       "      <td>507294.81</td>\n",
       "      <td>22931.78</td>\n",
       "      <td>6.901031e+09</td>\n",
       "      <td>2023-08-09</td>\n",
       "      <td>14:32:54</td>\n",
       "    </tr>\n",
       "    <tr>\n",
       "      <th>3</th>\n",
       "      <td>4</td>\n",
       "      <td>FMBCH</td>\n",
       "      <td>340.00</td>\n",
       "      <td>340.00</td>\n",
       "      <td>340.00</td>\n",
       "      <td>0.00</td>\n",
       "      <td>325.09</td>\n",
       "      <td>340.00</td>\n",
       "      <td>973.0</td>\n",
       "      <td>5.03</td>\n",
       "      <td>1.48</td>\n",
       "      <td>4.50</td>\n",
       "      <td>22.24</td>\n",
       "      <td>6.37</td>\n",
       "      <td>835805.00</td>\n",
       "      <td>37581.97</td>\n",
       "      <td>2.458250e+09</td>\n",
       "      <td>2023-08-09</td>\n",
       "      <td>14:32:54</td>\n",
       "    </tr>\n",
       "    <tr>\n",
       "      <th>4</th>\n",
       "      <td>5</td>\n",
       "      <td>ICON</td>\n",
       "      <td>NaN</td>\n",
       "      <td>NaN</td>\n",
       "      <td>0.00</td>\n",
       "      <td>18.97</td>\n",
       "      <td>18.97</td>\n",
       "      <td>18.97</td>\n",
       "      <td>0.0</td>\n",
       "      <td>0.25</td>\n",
       "      <td>1.32</td>\n",
       "      <td>13.18</td>\n",
       "      <td>7.59</td>\n",
       "      <td>1.23</td>\n",
       "      <td>126719.60</td>\n",
       "      <td>16706.11</td>\n",
       "      <td>6.680000e+09</td>\n",
       "      <td>2023-08-09</td>\n",
       "      <td>14:32:54</td>\n",
       "    </tr>\n",
       "  </tbody>\n",
       "</table>\n",
       "</div>"
      ],
      "text/plain": [
       "   counter_id counter  daily_range_high  daily_range_low  buy_price  \\\n",
       "0           1  AIRTEL            100.09           100.09     100.09   \n",
       "1           2     BHL               NaN              NaN      10.06   \n",
       "2           3    FDHB             73.51            73.51      75.00   \n",
       "3           4   FMBCH            340.00           340.00     340.00   \n",
       "4           5    ICON               NaN              NaN       0.00   \n",
       "\n",
       "   sell_price  previous_closing_price  today_closing_price  volume_traded  \\\n",
       "0        0.00                  100.08               100.09         5300.0   \n",
       "1        0.00                   10.06                10.06            0.0   \n",
       "2        0.00                   72.97                73.51        70328.0   \n",
       "3        0.00                  325.09               340.00          973.0   \n",
       "4       18.97                   18.97                18.97            0.0   \n",
       "\n",
       "   dividend_mk  dividend_yield_pct  earnings_yield_pct  pe_ratio  pbv_ratio  \\\n",
       "0         2.50                2.50                3.35     29.82      29.12   \n",
       "1         0.00                0.00               -3.44    -29.09       1.28   \n",
       "2         2.19                2.98                4.52     22.12      12.12   \n",
       "3         5.03                1.48                4.50     22.24       6.37   \n",
       "4         0.25                1.32               13.18      7.59       1.23   \n",
       "\n",
       "   market_capitalization_mkmn  profit_after_tax_mkmn  num_shares_issue  \\\n",
       "0                  1100990.00               36925.31      1.100000e+10   \n",
       "1                     8447.89                -290.43      8.397507e+08   \n",
       "2                   507294.81               22931.78      6.901031e+09   \n",
       "3                   835805.00               37581.97      2.458250e+09   \n",
       "4                   126719.60               16706.11      6.680000e+09   \n",
       "\n",
       "   trade_date print_time  \n",
       "0  2023-08-09   14:32:54  \n",
       "1  2023-08-09   14:32:54  \n",
       "2  2023-08-09   14:32:54  \n",
       "3  2023-08-09   14:32:54  \n",
       "4  2023-08-09   14:32:54  "
      ]
     },
     "execution_count": 8,
     "metadata": {},
     "output_type": "execute_result"
    }
   ],
   "source": [
    "combined_df.head()"
   ]
  },
  {
   "cell_type": "code",
   "execution_count": 6,
   "id": "954bd2f4",
   "metadata": {},
   "outputs": [
    {
     "name": "stdout",
     "output_type": "stream",
     "text": [
      "['AIRTEL' 'BHL' 'FDHB' 'FMBCH' 'ICON' 'ILLOVO' 'MPICO' 'NBM' 'NBS' 'NICO'\n",
      " 'NITL' 'OMU' 'PCL' 'STANDARD' 'SUNBIRD' 'TNM']\n"
     ]
    }
   ],
   "source": [
    "unique_counters = combined_df['counter'].unique()\n",
    "print(unique_counters)"
   ]
  },
  {
   "cell_type": "code",
   "execution_count": null,
   "id": "f9a7a1ac",
   "metadata": {},
   "outputs": [],
   "source": [
    "# Load the combined CSV file into a DataFrame\n",
    "combined_stock_df = pd.read_csv(output_file)\n",
    "print(combined_stock_df.head())\n",
    "print(combined_stock_df[\"counter\"].unique())\n",
    "\n",
    "company_map = {\n",
    "    \"AIRTEL\": \"AIRTEL MALAWI PLC\",\n",
    "    \"BHL\": \"BLANTYRE HOTELS PLC\",\n",
    "    \"FDHB\": \"FDH BANK PLC\",\n",
    "    \"FMBCH\": \"FMB CAPITAL HOLDINGS PLC\",\n",
    "    \"ICON\": \"ICON PROPERTIES PLC\",\n",
    "    \"ILLOVO\": \"ILLOVO SUGAR MALAWI PLC\",\n",
    "    \"MPICO\": \"MPICO PLC\",\n",
    "    \"NBM\": \"NATIONAL BANK OF MALAWI\",\n",
    "    \"NBS\": \"NBS BANK PLC\",\n",
    "    \"NICO\": \"NICO HOLDINGS PLC\",\n",
    "    \"NITL\": \"NATIONAL INVESTMENT TRUST PLC\",\n",
    "    \"OMU\": \"OLD MUTUAL LIMITED\",\n",
    "    \"PCL\": \"PRESS CORPORATION PLC\",\n",
    "    \"STANDARD\": \"STANDARD BANK MALAWI PLC\",\n",
    "    \"SUNBIRD\": \"SUNBIRD TOURISM PLC\",\n",
    "    \"TNM\": \"TELEKOM NETWORKS MALAWI PLC\"\n",
    "}\n",
    "\n",
    "# Add a new column with the full name\n",
    "combined_stock_df[\"name\"] = combined_stock_df[\"counter\"].map(company_map)\n",
    "combined_stock_df = combined_stock_df.rename(columns={\n",
    "    \"counter\": \"ticker\",\n",
    "    \"trade_date\": \"date_listed\",\n",
    "    \"buy_price\": \"listing_price\"\n",
    "})"
   ]
  },
  {
   "cell_type": "code",
   "execution_count": null,
   "id": "aa8b7a0e",
   "metadata": {},
   "outputs": [],
   "source": [
    "CREATE DATABASE stocks;"
   ]
  }
 ],
 "metadata": {
  "kernelspec": {
   "display_name": "base",
   "language": "python",
   "name": "python3"
  },
  "language_info": {
   "codemirror_mode": {
    "name": "ipython",
    "version": 3
   },
   "file_extension": ".py",
   "mimetype": "text/x-python",
   "name": "python",
   "nbconvert_exporter": "python",
   "pygments_lexer": "ipython3",
   "version": "3.13.5"
  }
 },
 "nbformat": 4,
 "nbformat_minor": 5
}
