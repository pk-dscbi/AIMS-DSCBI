{
 "cells": [
  {
   "cell_type": "markdown",
   "id": "10f90f1b",
   "metadata": {},
   "source": [
    "# Night Lights Data Download and Preprocessing\n",
    "In this notebook, we first download nightlights using the ```blackmarblePY```-A Python package for interacting with NASA's Black Marble night lights imagery data repository. \n",
    "For the downloads, we download annual composites-this combines daily nighlight images into a single image for the whole year utilzing alot of processing to deal with cloud cpve and noise. We also download momthly composites which are geenrated a simialr way as annual composites. The data covers the perios of 2012 to present. We do download 2012 to 2024.\n",
    "\n",
    "Next, we generate zonal statistics using spatial processing. Zonal statics computes summary statics for all pixels withing a zone. In our case, the zones are cells. For each zone, we calculate mean, median, sum, min and maximum. Also, we calculate number of pixels per cell.\n",
    "\n",
    "We then export these summary statistics intoCSV files which we will import into the database."
   ]
  },
  {
   "cell_type": "code",
   "execution_count": 151,
   "id": "fc847c86",
   "metadata": {},
   "outputs": [
    {
     "name": "stdout",
     "output_type": "stream",
     "text": [
      "The autoreload extension is already loaded. To reload it, use:\n",
      "  %reload_ext autoreload\n",
      "The watermark extension is already loaded. To reload it, use:\n",
      "  %reload_ext watermark\n",
      "Last updated: Sat Sep 13 2025\n",
      "\n",
      "Python implementation: CPython\n",
      "Python version       : 3.12.7\n",
      "IPython version      : 9.5.0\n",
      "\n",
      "blackmarble: 2025.6.3\n",
      "\n"
     ]
    }
   ],
   "source": [
    "import os\n",
    "import glob\n",
    "import re\n",
    "from pathlib import Path\n",
    "import datetime\n",
    "import logging\n",
    "from tqdm import tqdm\n",
    "\n",
    "import colorcet as cc\n",
    "import contextily as cx\n",
    "import geopandas as gpd\n",
    "import matplotlib.pyplot as plt\n",
    "import pandas as pd\n",
    "from rasterstats import zonal_stats\n",
    "from bokeh.plotting import figure, output_notebook, show\n",
    "from bokeh.models import HoverTool, Title\n",
    "\n",
    "from pyproj.enums import WktVersion\n",
    "\n",
    "# Monkey-patch the default `to_wkt()` behavior to always return WKT1\n",
    "import pyproj.crs.crs\n",
    "\n",
    "from blackmarble import BlackMarble\n",
    "\n",
    "from dotenv import load_dotenv\n",
    "\n",
    "logging.getLogger(\"blackmarblepy\").setLevel(logging.INFO)\n",
    "load_dotenv()\n",
    "\n",
    "%load_ext autoreload\n",
    "%load_ext watermark\n",
    "%autoreload 2\n",
    "%watermark -v -u -n -p blackmarble"
   ]
  },
  {
   "cell_type": "markdown",
   "id": "56933690",
   "metadata": {},
   "source": [
    "# Setup Input Directories"
   ]
  },
  {
   "cell_type": "code",
   "execution_count": 104,
   "id": "5c02c608",
   "metadata": {},
   "outputs": [],
   "source": [
    "DIR_WORKSPACE = Path.cwd().parents[1]\n",
    "DIR_DATA = DIR_WORKSPACE / \"data\"\n",
    "DIR_NTL = DIR_DATA / \"ntl\"\n",
    "DIR_POP = DIR_DATA / \"population-demography\"\n",
    "DIR_RASTERS_ANNUAL = DIR_NTL / \"rasters/annual\"\n",
    "DIR_RASTERS_MONTHLY = DIR_NTL / \"rasters/monthly\"\n",
    "DIR_STATS_ANNUAL = DIR_NTL / \"stats/annual\"\n",
    "DIR_STATS_MONTHLY = DIR_NTL / \"stats/monthly\"\n",
    "DIR_DB_DATA = DIR_DATA / \"tmp-db-data\"\n",
    "FILE_SHP_ADM4_POP = DIR_DATA / \"geospatial/pop-demo-infra/adm4-pop-buildings.shp\"\n",
    "FILE_SHP_ADM4 = DIR_DATA / \"geospatial/adm-bounds/gadm41_RWA_4.json\"\n"
   ]
  },
  {
   "cell_type": "code",
   "execution_count": 35,
   "id": "af5bacc7",
   "metadata": {},
   "outputs": [],
   "source": [
    "# Load Rwanda Admin 0 Boundaries\n",
    "gdf = geopandas.read_file(FILE_SHP_ADM0\n",
    ")\n",
    "# gdf.explore(tiles=\"CartoDB dark_matter\")"
   ]
  },
  {
   "cell_type": "code",
   "execution_count": null,
   "id": "fcb67a25",
   "metadata": {},
   "outputs": [],
   "source": [
    "gdf.plot(figsize=(8, 8), edgecolor=\"k\", alpha=0.5)"
   ]
  },
  {
   "cell_type": "markdown",
   "id": "6b77db2a",
   "metadata": {},
   "source": [
    "# A Patch to Deal with CRS Issue in the Package"
   ]
  },
  {
   "cell_type": "code",
   "execution_count": null,
   "id": "98a34168",
   "metadata": {},
   "outputs": [],
   "source": [
    "_original_to_wkt = pyproj.crs.crs.CRS.to_wkt\n",
    "\n",
    "def patched_to_wkt(self, version=WktVersion.WKT1_GDAL, *args, **kwargs):\n",
    "    return _original_to_wkt(self, version=version, *args, **kwargs)\n",
    "\n",
    "pyproj.crs.crs.CRS.to_wkt = patched_to_wkt\n"
   ]
  },
  {
   "cell_type": "markdown",
   "id": "0db2a632",
   "metadata": {},
   "source": [
    "# Download Annual Composites for 2012 to 2024"
   ]
  },
  {
   "cell_type": "code",
   "execution_count": 22,
   "id": "6f8a2b4b",
   "metadata": {},
   "outputs": [],
   "source": [
    "# Initialize the BlackMarble interface.\n",
    "bm = BlackMarble(output_directory=DIR_RASTERS_ANNUAL)"
   ]
  },
  {
   "cell_type": "code",
   "execution_count": null,
   "id": "c5dd4d37",
   "metadata": {},
   "outputs": [],
   "source": [
    "# Loop over years\n",
    "for year in range(2012, 2025):  # 2025 is exclusive, so it ends at 2024\n",
    "    print(f\"Downloading for {year}...\")\n",
    "    try:\n",
    "        bm.raster(\n",
    "            gdf=gdf,\n",
    "            product_id=\"VNP46A4\",  # Annual composite\n",
    "            date_range=f\"{year}-01-01\",\n",
    "        )\n",
    "    except Exception as e:\n",
    "        print(f\"Failed to download for {year}: {e}\")"
   ]
  },
  {
   "cell_type": "markdown",
   "id": "0baad957",
   "metadata": {},
   "source": [
    "# Download Monthly data for 2012 to 2024"
   ]
  },
  {
   "cell_type": "code",
   "execution_count": null,
   "id": "e6e3c09d",
   "metadata": {},
   "outputs": [],
   "source": [
    "# Initialize the BlackMarble interface.\n",
    "bm = BlackMarble(output_directory=DIR_RASTERS_MONTHLY, output_skip_if_exists=True)"
   ]
  },
  {
   "cell_type": "code",
   "execution_count": null,
   "id": "1308cc74",
   "metadata": {},
   "outputs": [],
   "source": [
    "# Generate list of year-month combinations\n",
    "year_months = [(year, month) for year in range(2012, 2025) for month in range(1, 13)]\n",
    "\n",
    "# Iterate with progress bar\n",
    "for year, month in tqdm(year_months, desc=\"Downloading monthly composites\"):\n",
    "    start_date = f\"{year}-{month:02d}-01\"\n",
    "\n",
    "    try:\n",
    "        bm.raster(\n",
    "            gdf=gdf,\n",
    "            product_id=\"VNP46A3\",  # Monthly Black Marble product\n",
    "            date_range=start_date,\n",
    "        )\n",
    "    except Exception as e:\n",
    "        print(f\"❌ Failed for {start_date}: {e}\")"
   ]
  },
  {
   "cell_type": "markdown",
   "id": "a9085beb",
   "metadata": {},
   "source": [
    "# Generate Zonal Statistics "
   ]
  },
  {
   "cell_type": "code",
   "execution_count": 121,
   "id": "139ba80d",
   "metadata": {},
   "outputs": [
    {
     "name": "stdout",
     "output_type": "stream",
     "text": [
      "Processing 300 raster files...\n"
     ]
    },
    {
     "name": "stderr",
     "output_type": "stream",
     "text": [
      "100%|██████████| 300/300 [05:05<00:00,  1.02s/it]\n"
     ]
    },
    {
     "name": "stdout",
     "output_type": "stream",
     "text": [
      "\n",
      "✅ All zonal stats saved to /Users/dmatekenya/My Drive (dmatekenya@gmail.com)/TEACHING/AIMS-DSCBI/data/ntl/stats/monthly/merged-zonal-stats-2012-2024.csv\n",
      "✅ Individual CSVs saved in folder: /Users/dmatekenya/My Drive (dmatekenya@gmail.com)/TEACHING/AIMS-DSCBI/data/ntl/stats/monthly\n"
     ]
    }
   ],
   "source": [
    "# === CONFIGURATION ===\n",
    "RASTER_FOLDER = DIR_RASTERS_MONTHLY  # Folder containing .tif files\n",
    "SINGLE_CSV_FOLDER = DIR_STATS_MONTHLY\n",
    "COMBINED_CSV_FILE = DIR_STATS_MONTHLY / \"merged-zonal-stats-2012-2024.csv\"\n",
    "\n",
    "\n",
    "# Load polygons\n",
    "gdf = gpd.read_file(FILE_SHP_ADM4_POP)\n",
    "\n",
    "# List all .tif files\n",
    "tif_files = sorted(glob.glob(os.path.join(RASTER_FOLDER, \"*.tif\")))\n",
    "\n",
    "# Store all rows for combined CSV\n",
    "all_stats = []\n",
    "\n",
    "print(f\"Processing {len(tif_files)} raster files...\")\n",
    "\n",
    "for tif_path in tqdm(tif_files):\n",
    "    filename = os.path.basename(tif_path)\n",
    "    \n",
    "    # Parse year and optionally month from filename using regex\n",
    "    year, month = None, None\n",
    "    match_ym = re.search(r\"(\\d{4})[_-]?(\\d{2})\", filename)     # e.g., 2023_01\n",
    "    match_y = re.search(r\"(\\d{4})\", filename)                  # fallback if only year\n",
    "\n",
    "    if match_ym:\n",
    "        year, month = int(match_ym.group(1)), int(match_ym.group(2))\n",
    "    elif match_y:\n",
    "        year = int(match_y.group(1))\n",
    "\n",
    "    # Compute zonal statistics\n",
    "    stats = zonal_stats(\n",
    "        gdf,\n",
    "        tif_path,\n",
    "        stats=[\"mean\", \"median\", \"min\", \"max\", \"sum\", \"count\"],\n",
    "        nodata=None,\n",
    "        geojson_out=True\n",
    "    )\n",
    "\n",
    "    # Extract polygon properties and add raster info\n",
    "    rows = []\n",
    "    for zone in stats:\n",
    "        row = zone[\"properties\"].copy()\n",
    "        # row.update(zone[\"stats\"])\n",
    "        row[\"raster\"] = filename\n",
    "        row[\"year\"] = year\n",
    "        if month:\n",
    "            row[\"month\"] = month\n",
    "        rows.append(row)\n",
    "        all_stats.append(row)\n",
    "\n",
    "    # Save individual file\n",
    "    df_raster = pd.DataFrame(rows)\n",
    "    single_csv_path = os.path.join(SINGLE_CSV_FOLDER, f\"{filename.replace('.tif', '.csv')}\")\n",
    "    df_raster.to_csv(single_csv_path, index=False)\n",
    "\n",
    "df_all = pd.DataFrame(all_stats)\n",
    "df_all.rename(columns={'province_n': 'province_name', 'district_n':'district_name', 'sector_nam': 'sector_name',\n",
    "       'min': 'ntl_mean', 'max':'ntl_max', 'mean':'ntl_mean', 'count':'pixel_count','min':'ntl_min',\n",
    "        'sum':'ntl_sum', 'median':'ntl_median', 'raster':'raster_filename'}, inplace=True)\n",
    "\n",
    "df_all = df_all[['cell_id', 'ntl_mean', 'ntl_median', 'ntl_min', 'ntl_max', 'ntl_sum', 'pixel_count', 'raster_filename', 'year', 'month']]\n",
    "df_all.to_csv(COMBINED_CSV_FILE, index=False)\n",
    "print(f\"\\n✅ All zonal stats saved to {COMBINED_CSV_FILE}\")\n",
    "print(f\"✅ Individual CSVs saved in folder: {SINGLE_CSV_FOLDER}\")"
   ]
  },
  {
   "cell_type": "code",
   "execution_count": 122,
   "id": "c0d056f2",
   "metadata": {},
   "outputs": [
    {
     "data": {
      "text/html": [
       "<div>\n",
       "<style scoped>\n",
       "    .dataframe tbody tr th:only-of-type {\n",
       "        vertical-align: middle;\n",
       "    }\n",
       "\n",
       "    .dataframe tbody tr th {\n",
       "        vertical-align: top;\n",
       "    }\n",
       "\n",
       "    .dataframe thead th {\n",
       "        text-align: right;\n",
       "    }\n",
       "</style>\n",
       "<table border=\"1\" class=\"dataframe\">\n",
       "  <thead>\n",
       "    <tr style=\"text-align: right;\">\n",
       "      <th></th>\n",
       "      <th>cell_id</th>\n",
       "      <th>ntl_mean</th>\n",
       "      <th>ntl_median</th>\n",
       "      <th>ntl_min</th>\n",
       "      <th>ntl_max</th>\n",
       "      <th>ntl_sum</th>\n",
       "      <th>pixel_count</th>\n",
       "      <th>raster_filename</th>\n",
       "      <th>year</th>\n",
       "      <th>month</th>\n",
       "    </tr>\n",
       "  </thead>\n",
       "  <tbody>\n",
       "    <tr>\n",
       "      <th>0</th>\n",
       "      <td>RWA.1.1.1.1_1</td>\n",
       "      <td>0.0</td>\n",
       "      <td>0.0</td>\n",
       "      <td>0.0</td>\n",
       "      <td>0.0</td>\n",
       "      <td>0.0</td>\n",
       "      <td>26</td>\n",
       "      <td>VNP46A3.A2012001.h20v09.001.2021124111708.tif</td>\n",
       "      <td>2012</td>\n",
       "      <td>NaN</td>\n",
       "    </tr>\n",
       "    <tr>\n",
       "      <th>1</th>\n",
       "      <td>RWA.1.1.1.2_1</td>\n",
       "      <td>0.0</td>\n",
       "      <td>0.0</td>\n",
       "      <td>0.0</td>\n",
       "      <td>0.0</td>\n",
       "      <td>0.0</td>\n",
       "      <td>27</td>\n",
       "      <td>VNP46A3.A2012001.h20v09.001.2021124111708.tif</td>\n",
       "      <td>2012</td>\n",
       "      <td>NaN</td>\n",
       "    </tr>\n",
       "    <tr>\n",
       "      <th>2</th>\n",
       "      <td>RWA.1.1.1.3_1</td>\n",
       "      <td>0.0</td>\n",
       "      <td>0.0</td>\n",
       "      <td>0.0</td>\n",
       "      <td>0.0</td>\n",
       "      <td>0.0</td>\n",
       "      <td>27</td>\n",
       "      <td>VNP46A3.A2012001.h20v09.001.2021124111708.tif</td>\n",
       "      <td>2012</td>\n",
       "      <td>NaN</td>\n",
       "    </tr>\n",
       "    <tr>\n",
       "      <th>3</th>\n",
       "      <td>RWA.1.1.1.4_1</td>\n",
       "      <td>0.0</td>\n",
       "      <td>0.0</td>\n",
       "      <td>0.0</td>\n",
       "      <td>0.0</td>\n",
       "      <td>0.0</td>\n",
       "      <td>43</td>\n",
       "      <td>VNP46A3.A2012001.h20v09.001.2021124111708.tif</td>\n",
       "      <td>2012</td>\n",
       "      <td>NaN</td>\n",
       "    </tr>\n",
       "    <tr>\n",
       "      <th>4</th>\n",
       "      <td>RWA.1.1.2.1_1</td>\n",
       "      <td>0.0</td>\n",
       "      <td>0.0</td>\n",
       "      <td>0.0</td>\n",
       "      <td>0.0</td>\n",
       "      <td>0.0</td>\n",
       "      <td>64</td>\n",
       "      <td>VNP46A3.A2012001.h20v09.001.2021124111708.tif</td>\n",
       "      <td>2012</td>\n",
       "      <td>NaN</td>\n",
       "    </tr>\n",
       "  </tbody>\n",
       "</table>\n",
       "</div>"
      ],
      "text/plain": [
       "         cell_id  ntl_mean  ntl_median  ntl_min  ntl_max  ntl_sum  \\\n",
       "0  RWA.1.1.1.1_1       0.0         0.0      0.0      0.0      0.0   \n",
       "1  RWA.1.1.1.2_1       0.0         0.0      0.0      0.0      0.0   \n",
       "2  RWA.1.1.1.3_1       0.0         0.0      0.0      0.0      0.0   \n",
       "3  RWA.1.1.1.4_1       0.0         0.0      0.0      0.0      0.0   \n",
       "4  RWA.1.1.2.1_1       0.0         0.0      0.0      0.0      0.0   \n",
       "\n",
       "   pixel_count                                raster_filename  year  month  \n",
       "0           26  VNP46A3.A2012001.h20v09.001.2021124111708.tif  2012    NaN  \n",
       "1           27  VNP46A3.A2012001.h20v09.001.2021124111708.tif  2012    NaN  \n",
       "2           27  VNP46A3.A2012001.h20v09.001.2021124111708.tif  2012    NaN  \n",
       "3           43  VNP46A3.A2012001.h20v09.001.2021124111708.tif  2012    NaN  \n",
       "4           64  VNP46A3.A2012001.h20v09.001.2021124111708.tif  2012    NaN  "
      ]
     },
     "execution_count": 122,
     "metadata": {},
     "output_type": "execute_result"
    }
   ],
   "source": [
    "df_all.head()"
   ]
  },
  {
   "cell_type": "code",
   "execution_count": null,
   "id": "32e2dfcf",
   "metadata": {},
   "outputs": [],
   "source": [
    "{'province_n': 'province_name', 'district_n':'district_name', 'sector_nam': 'sector_name',\n",
    "       'min': 'ntl_mean', 'max':'ntl_max', 'mean':'ntl_mean', 'count':'pixel_count',\n",
    "        'sum':'ntl_sum', 'median':'ntl_median', 'raster':'raster_filename'}"
   ]
  },
  {
   "cell_type": "code",
   "execution_count": 123,
   "id": "0f20ad15",
   "metadata": {},
   "outputs": [],
   "source": [
    "# Save combined file\n",
    "df = pd.read_csv(DIR_DB_DATA / \"population.csv\")\n"
   ]
  },
  {
   "cell_type": "code",
   "execution_count": 126,
   "id": "1b4f3c1d",
   "metadata": {},
   "outputs": [],
   "source": [
    "df[['elderly_60', 'general_pop', 'children_under5',\n",
    "       'youth_15_24', 'men_2020', 'women_2020', 'building_count']] = df[['elderly_60', 'general_pop', 'children_under5',\n",
    "       'youth_15_24', 'men_2020', 'women_2020', 'building_count']].astype(int)"
   ]
  },
  {
   "cell_type": "code",
   "execution_count": 129,
   "id": "70958d6f",
   "metadata": {},
   "outputs": [],
   "source": [
    "df.to_csv(DIR_DB_DATA / \"population.csv\", index=False)"
   ]
  },
  {
   "cell_type": "code",
   "execution_count": 132,
   "id": "7bd03c85",
   "metadata": {},
   "outputs": [
    {
     "data": {
      "text/plain": [
       "Index(['cell_id', 'elderly_60', 'general_pop', 'children_under5',\n",
       "       'youth_15_24', 'men_2020', 'women_2020', 'building_count'],\n",
       "      dtype='object')"
      ]
     },
     "execution_count": 132,
     "metadata": {},
     "output_type": "execute_result"
    }
   ],
   "source": [
    "df.columns"
   ]
  },
  {
   "cell_type": "code",
   "execution_count": 118,
   "id": "beb29011",
   "metadata": {},
   "outputs": [
    {
     "name": "stderr",
     "output_type": "stream",
     "text": [
      "/var/folders/4k/7vm8r4rj2g90lf39dt0pqwbr0000gn/T/ipykernel_27417/1666416216.py:1: SettingWithCopyWarning: \n",
      "A value is trying to be set on a copy of a slice from a DataFrame\n",
      "\n",
      "See the caveats in the documentation: https://pandas.pydata.org/pandas-docs/stable/user_guide/indexing.html#returning-a-view-versus-a-copy\n",
      "  df.rename(columns={'min': 'ntl_mean', 'max':'ntl_max', 'mean':'ntl_mean', 'count':'pixel_count','min':'ntl_min',\n"
     ]
    }
   ],
   "source": [
    "df.rename(columns={'min': 'ntl_mean', 'max':'ntl_max', 'mean':'ntl_mean', 'count':'pixel_count','min':'ntl_min',\n",
    "        'sum':'ntl_sum', 'median':'ntl_median', 'raster':'raster_filename'}, inplace=True)"
   ]
  },
  {
   "cell_type": "code",
   "execution_count": 120,
   "id": "02902b6e",
   "metadata": {},
   "outputs": [],
   "source": [
    "df.to_csv(DIR_DB_DATA / \"ntl-annual-2012-2024.csv\", index=False)"
   ]
  },
  {
   "cell_type": "code",
   "execution_count": 117,
   "id": "1c3f84ee",
   "metadata": {},
   "outputs": [
    {
     "data": {
      "text/html": [
       "<div>\n",
       "<style scoped>\n",
       "    .dataframe tbody tr th:only-of-type {\n",
       "        vertical-align: middle;\n",
       "    }\n",
       "\n",
       "    .dataframe tbody tr th {\n",
       "        vertical-align: top;\n",
       "    }\n",
       "\n",
       "    .dataframe thead th {\n",
       "        text-align: right;\n",
       "    }\n",
       "</style>\n",
       "<table border=\"1\" class=\"dataframe\">\n",
       "  <thead>\n",
       "    <tr style=\"text-align: right;\">\n",
       "      <th></th>\n",
       "      <th>cell_id</th>\n",
       "      <th>min</th>\n",
       "      <th>max</th>\n",
       "      <th>mean</th>\n",
       "      <th>count</th>\n",
       "      <th>sum</th>\n",
       "      <th>median</th>\n",
       "      <th>raster</th>\n",
       "      <th>year</th>\n",
       "    </tr>\n",
       "  </thead>\n",
       "  <tbody>\n",
       "    <tr>\n",
       "      <th>0</th>\n",
       "      <td>RWA.1.1.1.1_1</td>\n",
       "      <td>0.0</td>\n",
       "      <td>0.0</td>\n",
       "      <td>0.00</td>\n",
       "      <td>26</td>\n",
       "      <td>0.0</td>\n",
       "      <td>0.00</td>\n",
       "      <td>VNP46A4.A2012001.h20v09.001.2021124123213.tif</td>\n",
       "      <td>2012</td>\n",
       "    </tr>\n",
       "    <tr>\n",
       "      <th>1</th>\n",
       "      <td>RWA.1.1.1.2_1</td>\n",
       "      <td>0.0</td>\n",
       "      <td>0.0</td>\n",
       "      <td>0.00</td>\n",
       "      <td>27</td>\n",
       "      <td>0.0</td>\n",
       "      <td>0.00</td>\n",
       "      <td>VNP46A4.A2012001.h20v09.001.2021124123213.tif</td>\n",
       "      <td>2012</td>\n",
       "    </tr>\n",
       "    <tr>\n",
       "      <th>2</th>\n",
       "      <td>RWA.1.1.1.3_1</td>\n",
       "      <td>0.0</td>\n",
       "      <td>0.0</td>\n",
       "      <td>0.00</td>\n",
       "      <td>27</td>\n",
       "      <td>0.0</td>\n",
       "      <td>0.00</td>\n",
       "      <td>VNP46A4.A2012001.h20v09.001.2021124123213.tif</td>\n",
       "      <td>2012</td>\n",
       "    </tr>\n",
       "    <tr>\n",
       "      <th>3</th>\n",
       "      <td>RWA.1.1.1.4_1</td>\n",
       "      <td>0.0</td>\n",
       "      <td>0.0</td>\n",
       "      <td>0.00</td>\n",
       "      <td>43</td>\n",
       "      <td>0.0</td>\n",
       "      <td>0.00</td>\n",
       "      <td>VNP46A4.A2012001.h20v09.001.2021124123213.tif</td>\n",
       "      <td>2012</td>\n",
       "    </tr>\n",
       "    <tr>\n",
       "      <th>4</th>\n",
       "      <td>RWA.1.1.2.1_1</td>\n",
       "      <td>0.0</td>\n",
       "      <td>0.0</td>\n",
       "      <td>0.00</td>\n",
       "      <td>64</td>\n",
       "      <td>0.0</td>\n",
       "      <td>0.00</td>\n",
       "      <td>VNP46A4.A2012001.h20v09.001.2021124123213.tif</td>\n",
       "      <td>2012</td>\n",
       "    </tr>\n",
       "    <tr>\n",
       "      <th>...</th>\n",
       "      <td>...</td>\n",
       "      <td>...</td>\n",
       "      <td>...</td>\n",
       "      <td>...</td>\n",
       "      <td>...</td>\n",
       "      <td>...</td>\n",
       "      <td>...</td>\n",
       "      <td>...</td>\n",
       "      <td>...</td>\n",
       "    </tr>\n",
       "    <tr>\n",
       "      <th>52051</th>\n",
       "      <td>RWA.5.3.9.4_1</td>\n",
       "      <td>44.8</td>\n",
       "      <td>44.8</td>\n",
       "      <td>44.80</td>\n",
       "      <td>1</td>\n",
       "      <td>44.8</td>\n",
       "      <td>44.80</td>\n",
       "      <td>VNP46A4.A2023001.h21v09.001.2024022210517.tif</td>\n",
       "      <td>2023</td>\n",
       "    </tr>\n",
       "    <tr>\n",
       "      <th>52052</th>\n",
       "      <td>RWA.5.3.10.2_1</td>\n",
       "      <td>18.2</td>\n",
       "      <td>18.2</td>\n",
       "      <td>18.20</td>\n",
       "      <td>1</td>\n",
       "      <td>18.2</td>\n",
       "      <td>18.20</td>\n",
       "      <td>VNP46A4.A2023001.h21v09.001.2024022210517.tif</td>\n",
       "      <td>2023</td>\n",
       "    </tr>\n",
       "    <tr>\n",
       "      <th>52053</th>\n",
       "      <td>RWA.5.3.10.1_1</td>\n",
       "      <td>NaN</td>\n",
       "      <td>NaN</td>\n",
       "      <td>NaN</td>\n",
       "      <td>0</td>\n",
       "      <td>NaN</td>\n",
       "      <td>NaN</td>\n",
       "      <td>VNP46A4.A2023001.h21v09.001.2024022210517.tif</td>\n",
       "      <td>2023</td>\n",
       "    </tr>\n",
       "    <tr>\n",
       "      <th>52054</th>\n",
       "      <td>RWA.5.3.10.3_1</td>\n",
       "      <td>31.3</td>\n",
       "      <td>33.1</td>\n",
       "      <td>32.20</td>\n",
       "      <td>2</td>\n",
       "      <td>64.4</td>\n",
       "      <td>32.20</td>\n",
       "      <td>VNP46A4.A2023001.h21v09.001.2024022210517.tif</td>\n",
       "      <td>2023</td>\n",
       "    </tr>\n",
       "    <tr>\n",
       "      <th>52055</th>\n",
       "      <td>RWA.5.3.10.4_1</td>\n",
       "      <td>22.0</td>\n",
       "      <td>25.1</td>\n",
       "      <td>23.55</td>\n",
       "      <td>2</td>\n",
       "      <td>47.1</td>\n",
       "      <td>23.55</td>\n",
       "      <td>VNP46A4.A2023001.h21v09.001.2024022210517.tif</td>\n",
       "      <td>2023</td>\n",
       "    </tr>\n",
       "  </tbody>\n",
       "</table>\n",
       "<p>52056 rows × 9 columns</p>\n",
       "</div>"
      ],
      "text/plain": [
       "              cell_id   min   max   mean  count   sum  median  \\\n",
       "0       RWA.1.1.1.1_1   0.0   0.0   0.00     26   0.0    0.00   \n",
       "1       RWA.1.1.1.2_1   0.0   0.0   0.00     27   0.0    0.00   \n",
       "2       RWA.1.1.1.3_1   0.0   0.0   0.00     27   0.0    0.00   \n",
       "3       RWA.1.1.1.4_1   0.0   0.0   0.00     43   0.0    0.00   \n",
       "4       RWA.1.1.2.1_1   0.0   0.0   0.00     64   0.0    0.00   \n",
       "...               ...   ...   ...    ...    ...   ...     ...   \n",
       "52051   RWA.5.3.9.4_1  44.8  44.8  44.80      1  44.8   44.80   \n",
       "52052  RWA.5.3.10.2_1  18.2  18.2  18.20      1  18.2   18.20   \n",
       "52053  RWA.5.3.10.1_1   NaN   NaN    NaN      0   NaN     NaN   \n",
       "52054  RWA.5.3.10.3_1  31.3  33.1  32.20      2  64.4   32.20   \n",
       "52055  RWA.5.3.10.4_1  22.0  25.1  23.55      2  47.1   23.55   \n",
       "\n",
       "                                              raster  year  \n",
       "0      VNP46A4.A2012001.h20v09.001.2021124123213.tif  2012  \n",
       "1      VNP46A4.A2012001.h20v09.001.2021124123213.tif  2012  \n",
       "2      VNP46A4.A2012001.h20v09.001.2021124123213.tif  2012  \n",
       "3      VNP46A4.A2012001.h20v09.001.2021124123213.tif  2012  \n",
       "4      VNP46A4.A2012001.h20v09.001.2021124123213.tif  2012  \n",
       "...                                              ...   ...  \n",
       "52051  VNP46A4.A2023001.h21v09.001.2024022210517.tif  2023  \n",
       "52052  VNP46A4.A2023001.h21v09.001.2024022210517.tif  2023  \n",
       "52053  VNP46A4.A2023001.h21v09.001.2024022210517.tif  2023  \n",
       "52054  VNP46A4.A2023001.h21v09.001.2024022210517.tif  2023  \n",
       "52055  VNP46A4.A2023001.h21v09.001.2024022210517.tif  2023  \n",
       "\n",
       "[52056 rows x 9 columns]"
      ]
     },
     "execution_count": 117,
     "metadata": {},
     "output_type": "execute_result"
    }
   ],
   "source": [
    "df = df [['cell_id', 'min', 'max', 'mean', 'count', 'sum',\n",
    "       'median', 'raster', 'year']]\n",
    "df"
   ]
  },
  {
   "cell_type": "code",
   "execution_count": 96,
   "id": "0890e4f4",
   "metadata": {},
   "outputs": [],
   "source": [
    "df = pd.read_csv((DIR_DATA / \"population-demography/adm4-population-buildings.csv\"))"
   ]
  },
  {
   "cell_type": "code",
   "execution_count": 106,
   "id": "1f17ba9a",
   "metadata": {},
   "outputs": [],
   "source": [
    "df2 = df[['cell_id', 'elderly_60', 'general_20', 'children_under5',\n",
    "       'youth_15_24', 'men_2020', 'women_2020', 'building_count']]\n",
    "df2.to_csv(DIR_DB_DATA / \"population.csv\", index=False)"
   ]
  },
  {
   "cell_type": "code",
   "execution_count": 109,
   "id": "6064f752",
   "metadata": {},
   "outputs": [],
   "source": [
    "df[['cell_id', 'province_name', 'district_name', 'sector_name ',\n",
    "       'cell_name']].to_csv(DIR_DB_DATA / \"cells.csv\", index=False)"
   ]
  },
  {
   "cell_type": "code",
   "execution_count": 133,
   "id": "04d428dc",
   "metadata": {},
   "outputs": [
    {
     "data": {
      "text/html": [
       "<div>\n",
       "<style scoped>\n",
       "    .dataframe tbody tr th:only-of-type {\n",
       "        vertical-align: middle;\n",
       "    }\n",
       "\n",
       "    .dataframe tbody tr th {\n",
       "        vertical-align: top;\n",
       "    }\n",
       "\n",
       "    .dataframe thead th {\n",
       "        text-align: right;\n",
       "    }\n",
       "</style>\n",
       "<table border=\"1\" class=\"dataframe\">\n",
       "  <thead>\n",
       "    <tr style=\"text-align: right;\">\n",
       "      <th></th>\n",
       "      <th>cell_id</th>\n",
       "      <th>elderly_60</th>\n",
       "      <th>general_pop</th>\n",
       "      <th>children_under5</th>\n",
       "      <th>youth_15_24</th>\n",
       "      <th>men_2020</th>\n",
       "      <th>women_2020</th>\n",
       "      <th>building_count</th>\n",
       "    </tr>\n",
       "  </thead>\n",
       "  <tbody>\n",
       "    <tr>\n",
       "      <th>0</th>\n",
       "      <td>RWA.1.1.1.1_1</td>\n",
       "      <td>241</td>\n",
       "      <td>3855</td>\n",
       "      <td>495</td>\n",
       "      <td>758</td>\n",
       "      <td>1850</td>\n",
       "      <td>2004</td>\n",
       "      <td>1435</td>\n",
       "    </tr>\n",
       "    <tr>\n",
       "      <th>1</th>\n",
       "      <td>RWA.1.1.1.2_1</td>\n",
       "      <td>229</td>\n",
       "      <td>3669</td>\n",
       "      <td>470</td>\n",
       "      <td>720</td>\n",
       "      <td>1761</td>\n",
       "      <td>1907</td>\n",
       "      <td>884</td>\n",
       "    </tr>\n",
       "    <tr>\n",
       "      <th>2</th>\n",
       "      <td>RWA.1.1.1.3_1</td>\n",
       "      <td>109</td>\n",
       "      <td>1756</td>\n",
       "      <td>225</td>\n",
       "      <td>345</td>\n",
       "      <td>843</td>\n",
       "      <td>913</td>\n",
       "      <td>530</td>\n",
       "    </tr>\n",
       "    <tr>\n",
       "      <th>3</th>\n",
       "      <td>RWA.1.1.1.4_1</td>\n",
       "      <td>318</td>\n",
       "      <td>5174</td>\n",
       "      <td>666</td>\n",
       "      <td>1016</td>\n",
       "      <td>2482</td>\n",
       "      <td>2691</td>\n",
       "      <td>1512</td>\n",
       "    </tr>\n",
       "    <tr>\n",
       "      <th>4</th>\n",
       "      <td>RWA.1.1.2.1_1</td>\n",
       "      <td>335</td>\n",
       "      <td>6046</td>\n",
       "      <td>833</td>\n",
       "      <td>1264</td>\n",
       "      <td>2880</td>\n",
       "      <td>3166</td>\n",
       "      <td>2036</td>\n",
       "    </tr>\n",
       "  </tbody>\n",
       "</table>\n",
       "</div>"
      ],
      "text/plain": [
       "         cell_id  elderly_60  general_pop  children_under5  youth_15_24  \\\n",
       "0  RWA.1.1.1.1_1         241         3855              495          758   \n",
       "1  RWA.1.1.1.2_1         229         3669              470          720   \n",
       "2  RWA.1.1.1.3_1         109         1756              225          345   \n",
       "3  RWA.1.1.1.4_1         318         5174              666         1016   \n",
       "4  RWA.1.1.2.1_1         335         6046              833         1264   \n",
       "\n",
       "   men_2020  women_2020  building_count  \n",
       "0      1850        2004            1435  \n",
       "1      1761        1907             884  \n",
       "2       843         913             530  \n",
       "3      2482        2691            1512  \n",
       "4      2880        3166            2036  "
      ]
     },
     "execution_count": 133,
     "metadata": {},
     "output_type": "execute_result"
    }
   ],
   "source": [
    "df.head()"
   ]
  },
  {
   "cell_type": "code",
   "execution_count": null,
   "id": "c560ded5",
   "metadata": {},
   "outputs": [],
   "source": [
    "try:\n",
    "    VNP46A4_2024 = bm.raster(gdf, product_id=\"VNP46A4\",\n",
    "                             date_range=(\"2024-01-01\", \"2024-12-31\"))\n",
    "except KeyError as e:\n",
    "    if str(e) == \"'name'\":\n",
    "        raise RuntimeError(\n",
    "            \"No granules returned (empty manifest) or manifest schema changed. \"\n",
    "            \"Broaden date_range, check AOI/token, or upgrade blackmarble.\"\n",
    "        )\n",
    "    else:\n",
    "        raise\n"
   ]
  },
  {
   "cell_type": "code",
   "execution_count": null,
   "id": "77002aa3",
   "metadata": {},
   "outputs": [],
   "source": [
    "# Annual data: raster for 2024\n",
    "VNP46A4_2024 = bm.raster(\n",
    "    gdf,\n",
    "    product_id=\"VNP46A4\",\n",
    "    date_range=(\"2024-01-01\", \"2024-12-31\"),\n",
    ")"
   ]
  },
  {
   "cell_type": "code",
   "execution_count": null,
   "id": "a09881b9",
   "metadata": {},
   "outputs": [],
   "source": [
    "gdf = geopandas.read_file(\n",
    "    \"https://geodata.ucdavis.edu/gadm/gadm4.1/json/gadm41_GHA_1.json.zip\"\n",
    ")"
   ]
  },
  {
   "cell_type": "code",
   "execution_count": 147,
   "id": "8ddf9775",
   "metadata": {},
   "outputs": [
    {
     "data": {
      "text/plain": [
       "count    51912.000000\n",
       "mean         3.579215\n",
       "std         23.235693\n",
       "min          0.000000\n",
       "25%          0.000000\n",
       "50%          0.000000\n",
       "75%          0.000000\n",
       "max        894.000000\n",
       "Name: ntl_sum, dtype: float64"
      ]
     },
     "execution_count": 147,
     "metadata": {},
     "output_type": "execute_result"
    }
   ],
   "source": [
    "df_an.ntl_sum.describe()"
   ]
  },
  {
   "cell_type": "code",
   "execution_count": 134,
   "id": "c9a76b45",
   "metadata": {},
   "outputs": [],
   "source": [
    "df_an = pd.read_csv(DIR_DB_DATA / \"ntl-annual-2012-2024.csv\")"
   ]
  },
  {
   "cell_type": "code",
   "execution_count": 138,
   "id": "797f2178",
   "metadata": {},
   "outputs": [],
   "source": [
    "df_an['id'] = df_an.index + 1"
   ]
  },
  {
   "cell_type": "code",
   "execution_count": 145,
   "id": "f9e9f894",
   "metadata": {},
   "outputs": [],
   "source": [
    "df_an[['id', 'cell_id', 'ntl_min', 'ntl_max', 'ntl_mean', 'pixel_count', 'ntl_sum',\n",
    "       'ntl_median', 'raster_filename', 'year']].to_csv(DIR_DB_DATA / \"annual.csv\", index=False)"
   ]
  },
  {
   "cell_type": "code",
   "execution_count": 143,
   "id": "766e5c55",
   "metadata": {},
   "outputs": [
    {
     "data": {
      "text/plain": [
       "Index(['cell_id', 'ntl_min', 'ntl_max', 'ntl_mean', 'pixel_count', 'ntl_sum',\n",
       "       'ntl_median', 'raster_filename', 'year', 'id'],\n",
       "      dtype='object')"
      ]
     },
     "execution_count": 143,
     "metadata": {},
     "output_type": "execute_result"
    }
   ],
   "source": [
    "df_an.columns"
   ]
  },
  {
   "cell_type": "code",
   "execution_count": 150,
   "id": "5dab55ee",
   "metadata": {},
   "outputs": [
    {
     "data": {
      "text/plain": [
       "<Axes: >"
      ]
     },
     "execution_count": 150,
     "metadata": {},
     "output_type": "execute_result"
    },
    {
     "data": {
      "image/png": "[encoded data removed]",
      "text/plain": [
       "<Figure size 640x480 with 1 Axes>"
      ]
     },
     "metadata": {},
     "output_type": "display_data"
    }
   ],
   "source": [
    "df_an.ntl_sum.hist(bins=100)"
   ]
  },
  {
   "cell_type": "code",
   "execution_count": null,
   "id": "24ac01ca",
   "metadata": {},
   "outputs": [],
   "source": []
  }
 ],
 "metadata": {
  "kernelspec": {
   "display_name": ".venv-sp",
   "language": "python",
   "name": "python3"
  },
  "language_info": {
   "codemirror_mode": {
    "name": "ipython",
    "version": 3
   },
   "file_extension": ".py",
   "mimetype": "text/x-python",
   "name": "python",
   "nbconvert_exporter": "python",
   "pygments_lexer": "ipython3",
   "version": "3.12.7"
  }
 },
 "nbformat": 4,
 "nbformat_minor": 5
}
