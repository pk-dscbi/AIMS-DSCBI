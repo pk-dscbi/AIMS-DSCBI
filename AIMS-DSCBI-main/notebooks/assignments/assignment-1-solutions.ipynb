{
 "cells": [
  {
   "cell_type": "markdown",
   "id": "2baaa681-e813-428b-9010-4508b7291011",
   "metadata": {},
   "source": [
    "# Solutions-Programming Assignment\n",
    "## Estimating Chichewa Speakers\n",
    "### Background\n",
    "This notebook provides statistics about the language of **Chichewa**. \n",
    "More specifically, the goal is to generate an accurate estimate of total number of people who speak this language. Note that Chichewa also includes the alternate names: *Chewa*, *Nyanja*, *Chinyanja*. In order to provide context, first, let us indicate the countries where the language is spoken. \n",
    "1. **Malawi.** About 70% of the population speak Chichewa. <a name=\"cite_ref-1\"></a>[<sup>[1]</sup>](#cite_note-1)\n",
    "2. **Zambia.** About 20% of the population speak the language. <a name=\"cite_ref-2\"></a>[<sup>[2]</sup>](#cite_note-2)\n",
    "3. **Mozamabique.** Less than 1% of the population speak the language. <a name=\"cite_ref-3\"></a>[<sup>[3]</sup>](#cite_note-3)\n",
    "4. **Zimbabwe.** Although Chichewa seem to be one of the official languages for Zimbabwe, I havent found any data yet showing how many people speak the language.\n",
    "5. **Tanzania.** Has a border with Malawi in the northen region where people speak Tumbuka, so it makes sense that there maybe no Chichewa speaking people there. Otherwise, I didnot find any data on proportion of the population who speak the language.\n",
    "\n",
    "Based on the analysis in this notebook, as of 2023, there are **21,482,292** people who speak Chichewa distributed across three countries: Malawi (70%), Zambia (18%) and Mozambique(12%).\n",
    "\n",
    "The [Humanitarian data website](https://data.humdata.org/dataset/) contains data about languages for some of these countries. The HUMDATA links are provided below:\n",
    "- [Zambia languages](https://data.humdata.org/dataset/zambia-languages)\n",
    "- [Malawi languages](https://data.humdata.org/dataset/malawi-languages)\n",
    "- [Mozambique languages](https://data.humdata.org/dataset/mozambique-languages)\n",
    "\n",
    "Since I was not very sure of some of the numbers from [humdata](https://data.humdata.org), I decided to check with the actual sources as follows:\n",
    ">**Malawi and Zambia.** I could not find any current surveys with data on languages spoken but I still found something in the DHS. In the DHS, they ask about survey respondent's native language. Although this data is not included in DHS reports (as they seem to collect this piece of data as interview metadata), its still a useful source of data for languages spoken. For *Zimbabwe, Tanzania and Mozambique* the DHS does'nt have this information as they only provide languages as language-1, language-2 etc except for the major languages.\n",
    "\n",
    "\n",
    "<a name=\"cite_note-1\"></a>1. [^](#cite_ref-1) 2015-16 MDHS and [humdata](https://data.humdata.org/dataset/malawi-languages)\n",
    "\n",
    "<a name=\"cite_note-2\"></a>2. [^](#cite_ref-2) 2018 Zambia DHS and [humdata](https://data.humdata.org/dataset/zambia-languages)\n",
    "\n",
    "<a name=\"cite_note-3\"></a>3. [^](#cite_ref-3) [Humdata](https://data.humdata.org/dataset/mozambique-languages)\n",
    "\n",
    "### Assignment Tasks \n",
    "1. Read the notebook carefully, answer the questions as asked.\n",
    "2. In some cases, you will complete missing code. Add your own code where it says \"ADD YOUR CODE\".\n"
   ]
  },
  {
   "cell_type": "code",
   "execution_count": 13,
   "id": "a4c711fb-9980-4380-8d2d-52efec126354",
   "metadata": {},
   "outputs": [],
   "source": [
    "import pandas as pd\n",
    "import random\n",
    "from pathlib import Path\n",
    "pd.set_option('display.float_format', lambda x: '%.3f' % x)"
   ]
  },
  {
   "cell_type": "markdown",
   "id": "cbb0234e",
   "metadata": {},
   "source": [
    "## Setup Input Folders\n",
    "In this section, make sure to define the folders where your data is stored on your machine.  \n",
    "I find it helpful to set up the working directory and input data folders right at the start of the notebook.  \n",
    "To keep things organized, I use the naming convention: `FILE_{NAME}` for files and `DIR_{NAME}` for folders.\n",
    "\n",
    "We'll be using the [`pathlib`](https://docs.python.org/3/library/pathlib.html) library—it's the recommended approach for managing file paths in Python.\n"
   ]
  },
  {
   "cell_type": "code",
   "execution_count": 14,
   "id": "ba8273ba",
   "metadata": {},
   "outputs": [],
   "source": [
    "DIR_DATA = Path.cwd().parents[1] / \"data\"\n",
    "DIR_DHS = DIR_DATA / \"DHS\"\n",
    "\n",
    "# Population by enumeration area (EA) for Malawi\n",
    "FILE_POP_MW = DIR_DATA / \"population/malawi-ea-population.csv\"\n",
    "\n",
    "# MW DHS-2015-16 HH members stata data file\n",
    "FILE_MW_DHS = DIR_DHS / \"MWPR7ADT/MWPR7AFL.DTA\""
   ]
  },
  {
   "cell_type": "markdown",
   "id": "5f391f0a-b3d7-4dfc-985a-c8769c327f81",
   "metadata": {},
   "source": [
    "## Chichewa speakers in Malawi Based on Tribe\n",
    "Malawi is the primary country where Chichewa is spoken. In the absence of precise language data, we begin by estimating the number of Chichewa speakers based on tribal affiliation."
   ]
  },
  {
   "cell_type": "code",
   "execution_count": 15,
   "id": "75745171-00ac-413f-9a16-478adde8220c",
   "metadata": {
    "jupyter": {
     "source_hidden": true
    },
    "tags": []
   },
   "outputs": [],
   "source": [
    "def mw_estimate_chichewa_speaking_based_on_tribe():\n",
    "    \"\"\"\n",
    "    Get an estimate of people who speak Chichewa and Chinyanja based\n",
    "    on tribes\n",
    "    data source: 2018 census main report: \n",
    "    http://www.nsomalawi.mw/images/stories/data_on_line/demography/census_2018/\n",
    "    \"\"\"\n",
    "    # from MW 2018 census report \n",
    "    total_pop_malawi = 17506022\n",
    "    \n",
    "    # =======================\n",
    "    # POPULATION BY TRIBE\n",
    "    # =======================\n",
    "    mw_chewa_trb = 6020945\n",
    "    mw_tumbuka_trb = 1614955\n",
    "    mw_lomwe_trb = 3302634\n",
    "    mw_tonga_trb = 310031\n",
    "    mw_yao_trb = 2321763\n",
    "    mw_sena_trb = 670908\n",
    "    mw_nkhonde_trb = 174430\n",
    "    mw_lambya_trb = 106769\n",
    "    mw_sukwa_trb = 93762\n",
    "    mw_manganja_trb = 559887\n",
    "    mw_nyanja_trb = 324272\n",
    "    mw_ngoni_tribe = 1819347\n",
    "    mw_other_trb = 186319\n",
    "    \n",
    "    # check that totals from tribes match with given total pop\n",
    "    tot = mw_chewa_trb + mw_lambya_trb + mw_sukwa_trb + mw_other_trb+ mw_manganja_trb+ mw_sena_trb+\\\n",
    "    mw_lomwe_trb + mw_ngoni_tribe + mw_tumbuka_trb + mw_tonga_trb + mw_nyanja_trb + mw_yao_trb + mw_nkhonde_trb\n",
    "    assert tot == total_pop_malawi\n",
    "    \n",
    "    # =====================================\n",
    "    # SUM POP FOR CHICHEWA SPEAKING TRIBES\n",
    "    # ====================================\n",
    "    # the following tribes speak chichewa:\n",
    "    # chewa, ngoni,mang'anja, nyanja and other\n",
    "    chichewa_speaking_pop = mw_chewa_trb + mw_other_trb + mw_ngoni_tribe + \\\n",
    "    mw_manganja_trb + mw_nyanja_trb\n",
    "    print('Chichewa speaking population: {:,}'.format(chichewa_speaking_pop))"
   ]
  },
  {
   "cell_type": "code",
   "execution_count": 16,
   "id": "1d0a1b4d-0d69-4551-8dad-621671df2e62",
   "metadata": {},
   "outputs": [
    {
     "name": "stdout",
     "output_type": "stream",
     "text": [
      "==================================================\n",
      " Malawi, Chichewa Speakers Based on Tribe\n",
      "==================================================\n",
      "Chichewa speaking population: 8,910,770\n"
     ]
    }
   ],
   "source": [
    "print(\"=\"*50)\n",
    "print(\" Malawi, Chichewa Speakers Based on Tribe\")\n",
    "print(\"=\"*50)\n",
    "mw_estimate_chichewa_speaking_based_on_tribe()"
   ]
  },
  {
   "cell_type": "markdown",
   "id": "147b0949",
   "metadata": {},
   "source": [
    "## Chichewa speakers in Malawi Based on District of Residence\n",
    "In this section, we estimate Chichewa speakers based on the district of residence.  For example, we can assume that people from the following districts speak Chichewa:  \n",
    "> Mzuzu City, Kasungu, Nkhotakota, Ntchisi, Dowa, Salima, Lilongwe,  \n",
    "> Mchinji, Dedza, Ntcheu, Lilongwe City,  \n",
    "> Zomba, Chiradzulu, Blantyre, Mwanza, Thyolo,  \n",
    "> Mulanje, Phalombe, Balaka, Neno,  \n",
    "> Zomba City, Blantyre City"
   ]
  },
  {
   "cell_type": "code",
   "execution_count": 17,
   "id": "41676bac-8889-4ec3-9c5c-a88132e304d3",
   "metadata": {
    "jupyter": {
     "source_hidden": true
    },
    "tags": []
   },
   "outputs": [],
   "source": [
    "def mw_estimate_chichewa_speakers_by_district(dist_pop:pd.DataFrame):\n",
    "    \"\"\"\n",
    "    Get an estimate of people who speak Chichewa and Chinyanja based\n",
    "    on tribes using data 2018 census main report for population by tribe:\n",
    "    http://www.nsomalawi.mw/images/stories/data_on_line/demography/census_2018/\n",
    "    Parameters:\n",
    "    dist_pop (pd.DataFrame): DataFrame with population by district for MW\n",
    "    Returns:\n",
    "    int:Population of Chichewa speakers in MW\n",
    "\n",
    "   \"\"\"\n",
    "    # ===========================\n",
    "    # CHICHEWA SPEAKING DISTRICTS\n",
    "    # ===========================\n",
    "    # List of chichewa speaking districts\n",
    "    chichewa_speaking_dists = ['Mzuzu City',\n",
    "       'Kasungu', 'Nkhotakota', 'Ntchisi', 'Dowa', 'Salima', 'Lilongwe',\n",
    "       'Mchinji', 'Dedza', 'Ntcheu', 'Lilongwe City', \n",
    "       'Zomba', 'Chiradzulu', 'Blantyre', 'Mwanza', 'Thyolo',\n",
    "       'Mulanje', 'Phalombe', 'Balaka', 'Neno',\n",
    "       'Zomba City', 'Blantyre City']\n",
    "    \n",
    "    df_chichewa_speaking = df_dist.query('DIST_NAME in @chichewa_speaking_dists')\n",
    "    chich_pop = df_chichewa_speaking['TOTAL_POP'].sum()\n",
    "    return chich_pop"
   ]
  },
  {
   "cell_type": "code",
   "execution_count": 18,
   "id": "f29a54e5-4e0a-4f46-9680-aab39315c440",
   "metadata": {},
   "outputs": [
    {
     "ename": "FileNotFoundError",
     "evalue": "[Errno 2] No such file or directory: '/Users/dmatekenya/Library/CloudStorage/GoogleDrive-dmatekenya@gmail.com/My Drive/TEACHING/AIMS-DSCBI/data/population/malawi-ea-population.csv'",
     "output_type": "error",
     "traceback": [
      "\u001b[0;31m---------------------------------------------------------------------------\u001b[0m",
      "\u001b[0;31mFileNotFoundError\u001b[0m                         Traceback (most recent call last)",
      "Cell \u001b[0;32mIn[18], line 2\u001b[0m\n\u001b[1;32m      1\u001b[0m \u001b[38;5;66;03m# Get population by district for Malawi\u001b[39;00m\n\u001b[0;32m----> 2\u001b[0m df_pop_ea \u001b[38;5;241m=\u001b[39m pd\u001b[38;5;241m.\u001b[39mread_csv(FILE_POP_MW)\n\u001b[1;32m      3\u001b[0m df_dist \u001b[38;5;241m=\u001b[39m df_pop_ea\u001b[38;5;241m.\u001b[39mgroupby(\u001b[38;5;124m'\u001b[39m\u001b[38;5;124mDIST_NAME\u001b[39m\u001b[38;5;124m'\u001b[39m)[\u001b[38;5;124m'\u001b[39m\u001b[38;5;124mTOTAL_POP\u001b[39m\u001b[38;5;124m'\u001b[39m]\u001b[38;5;241m.\u001b[39msum()\u001b[38;5;241m.\u001b[39mreset_index()\n",
      "File \u001b[0;32m/opt/anaconda3/lib/python3.13/site-packages/pandas/io/parsers/readers.py:1026\u001b[0m, in \u001b[0;36mread_csv\u001b[0;34m(filepath_or_buffer, sep, delimiter, header, names, index_col, usecols, dtype, engine, converters, true_values, false_values, skipinitialspace, skiprows, skipfooter, nrows, na_values, keep_default_na, na_filter, verbose, skip_blank_lines, parse_dates, infer_datetime_format, keep_date_col, date_parser, date_format, dayfirst, cache_dates, iterator, chunksize, compression, thousands, decimal, lineterminator, quotechar, quoting, doublequote, escapechar, comment, encoding, encoding_errors, dialect, on_bad_lines, delim_whitespace, low_memory, memory_map, float_precision, storage_options, dtype_backend)\u001b[0m\n\u001b[1;32m   1013\u001b[0m kwds_defaults \u001b[38;5;241m=\u001b[39m _refine_defaults_read(\n\u001b[1;32m   1014\u001b[0m     dialect,\n\u001b[1;32m   1015\u001b[0m     delimiter,\n\u001b[0;32m   (...)\u001b[0m\n\u001b[1;32m   1022\u001b[0m     dtype_backend\u001b[38;5;241m=\u001b[39mdtype_backend,\n\u001b[1;32m   1023\u001b[0m )\n\u001b[1;32m   1024\u001b[0m kwds\u001b[38;5;241m.\u001b[39mupdate(kwds_defaults)\n\u001b[0;32m-> 1026\u001b[0m \u001b[38;5;28;01mreturn\u001b[39;00m _read(filepath_or_buffer, kwds)\n",
      "File \u001b[0;32m/opt/anaconda3/lib/python3.13/site-packages/pandas/io/parsers/readers.py:620\u001b[0m, in \u001b[0;36m_read\u001b[0;34m(filepath_or_buffer, kwds)\u001b[0m\n\u001b[1;32m    617\u001b[0m _validate_names(kwds\u001b[38;5;241m.\u001b[39mget(\u001b[38;5;124m\"\u001b[39m\u001b[38;5;124mnames\u001b[39m\u001b[38;5;124m\"\u001b[39m, \u001b[38;5;28;01mNone\u001b[39;00m))\n\u001b[1;32m    619\u001b[0m \u001b[38;5;66;03m# Create the parser.\u001b[39;00m\n\u001b[0;32m--> 620\u001b[0m parser \u001b[38;5;241m=\u001b[39m TextFileReader(filepath_or_buffer, \u001b[38;5;241m*\u001b[39m\u001b[38;5;241m*\u001b[39mkwds)\n\u001b[1;32m    622\u001b[0m \u001b[38;5;28;01mif\u001b[39;00m chunksize \u001b[38;5;129;01mor\u001b[39;00m iterator:\n\u001b[1;32m    623\u001b[0m     \u001b[38;5;28;01mreturn\u001b[39;00m parser\n",
      "File \u001b[0;32m/opt/anaconda3/lib/python3.13/site-packages/pandas/io/parsers/readers.py:1620\u001b[0m, in \u001b[0;36mTextFileReader.__init__\u001b[0;34m(self, f, engine, **kwds)\u001b[0m\n\u001b[1;32m   1617\u001b[0m     \u001b[38;5;28mself\u001b[39m\u001b[38;5;241m.\u001b[39moptions[\u001b[38;5;124m\"\u001b[39m\u001b[38;5;124mhas_index_names\u001b[39m\u001b[38;5;124m\"\u001b[39m] \u001b[38;5;241m=\u001b[39m kwds[\u001b[38;5;124m\"\u001b[39m\u001b[38;5;124mhas_index_names\u001b[39m\u001b[38;5;124m\"\u001b[39m]\n\u001b[1;32m   1619\u001b[0m \u001b[38;5;28mself\u001b[39m\u001b[38;5;241m.\u001b[39mhandles: IOHandles \u001b[38;5;241m|\u001b[39m \u001b[38;5;28;01mNone\u001b[39;00m \u001b[38;5;241m=\u001b[39m \u001b[38;5;28;01mNone\u001b[39;00m\n\u001b[0;32m-> 1620\u001b[0m \u001b[38;5;28mself\u001b[39m\u001b[38;5;241m.\u001b[39m_engine \u001b[38;5;241m=\u001b[39m \u001b[38;5;28mself\u001b[39m\u001b[38;5;241m.\u001b[39m_make_engine(f, \u001b[38;5;28mself\u001b[39m\u001b[38;5;241m.\u001b[39mengine)\n",
      "File \u001b[0;32m/opt/anaconda3/lib/python3.13/site-packages/pandas/io/parsers/readers.py:1880\u001b[0m, in \u001b[0;36mTextFileReader._make_engine\u001b[0;34m(self, f, engine)\u001b[0m\n\u001b[1;32m   1878\u001b[0m     \u001b[38;5;28;01mif\u001b[39;00m \u001b[38;5;124m\"\u001b[39m\u001b[38;5;124mb\u001b[39m\u001b[38;5;124m\"\u001b[39m \u001b[38;5;129;01mnot\u001b[39;00m \u001b[38;5;129;01min\u001b[39;00m mode:\n\u001b[1;32m   1879\u001b[0m         mode \u001b[38;5;241m+\u001b[39m\u001b[38;5;241m=\u001b[39m \u001b[38;5;124m\"\u001b[39m\u001b[38;5;124mb\u001b[39m\u001b[38;5;124m\"\u001b[39m\n\u001b[0;32m-> 1880\u001b[0m \u001b[38;5;28mself\u001b[39m\u001b[38;5;241m.\u001b[39mhandles \u001b[38;5;241m=\u001b[39m get_handle(\n\u001b[1;32m   1881\u001b[0m     f,\n\u001b[1;32m   1882\u001b[0m     mode,\n\u001b[1;32m   1883\u001b[0m     encoding\u001b[38;5;241m=\u001b[39m\u001b[38;5;28mself\u001b[39m\u001b[38;5;241m.\u001b[39moptions\u001b[38;5;241m.\u001b[39mget(\u001b[38;5;124m\"\u001b[39m\u001b[38;5;124mencoding\u001b[39m\u001b[38;5;124m\"\u001b[39m, \u001b[38;5;28;01mNone\u001b[39;00m),\n\u001b[1;32m   1884\u001b[0m     compression\u001b[38;5;241m=\u001b[39m\u001b[38;5;28mself\u001b[39m\u001b[38;5;241m.\u001b[39moptions\u001b[38;5;241m.\u001b[39mget(\u001b[38;5;124m\"\u001b[39m\u001b[38;5;124mcompression\u001b[39m\u001b[38;5;124m\"\u001b[39m, \u001b[38;5;28;01mNone\u001b[39;00m),\n\u001b[1;32m   1885\u001b[0m     memory_map\u001b[38;5;241m=\u001b[39m\u001b[38;5;28mself\u001b[39m\u001b[38;5;241m.\u001b[39moptions\u001b[38;5;241m.\u001b[39mget(\u001b[38;5;124m\"\u001b[39m\u001b[38;5;124mmemory_map\u001b[39m\u001b[38;5;124m\"\u001b[39m, \u001b[38;5;28;01mFalse\u001b[39;00m),\n\u001b[1;32m   1886\u001b[0m     is_text\u001b[38;5;241m=\u001b[39mis_text,\n\u001b[1;32m   1887\u001b[0m     errors\u001b[38;5;241m=\u001b[39m\u001b[38;5;28mself\u001b[39m\u001b[38;5;241m.\u001b[39moptions\u001b[38;5;241m.\u001b[39mget(\u001b[38;5;124m\"\u001b[39m\u001b[38;5;124mencoding_errors\u001b[39m\u001b[38;5;124m\"\u001b[39m, \u001b[38;5;124m\"\u001b[39m\u001b[38;5;124mstrict\u001b[39m\u001b[38;5;124m\"\u001b[39m),\n\u001b[1;32m   1888\u001b[0m     storage_options\u001b[38;5;241m=\u001b[39m\u001b[38;5;28mself\u001b[39m\u001b[38;5;241m.\u001b[39moptions\u001b[38;5;241m.\u001b[39mget(\u001b[38;5;124m\"\u001b[39m\u001b[38;5;124mstorage_options\u001b[39m\u001b[38;5;124m\"\u001b[39m, \u001b[38;5;28;01mNone\u001b[39;00m),\n\u001b[1;32m   1889\u001b[0m )\n\u001b[1;32m   1890\u001b[0m \u001b[38;5;28;01massert\u001b[39;00m \u001b[38;5;28mself\u001b[39m\u001b[38;5;241m.\u001b[39mhandles \u001b[38;5;129;01mis\u001b[39;00m \u001b[38;5;129;01mnot\u001b[39;00m \u001b[38;5;28;01mNone\u001b[39;00m\n\u001b[1;32m   1891\u001b[0m f \u001b[38;5;241m=\u001b[39m \u001b[38;5;28mself\u001b[39m\u001b[38;5;241m.\u001b[39mhandles\u001b[38;5;241m.\u001b[39mhandle\n",
      "File \u001b[0;32m/opt/anaconda3/lib/python3.13/site-packages/pandas/io/common.py:873\u001b[0m, in \u001b[0;36mget_handle\u001b[0;34m(path_or_buf, mode, encoding, compression, memory_map, is_text, errors, storage_options)\u001b[0m\n\u001b[1;32m    868\u001b[0m \u001b[38;5;28;01melif\u001b[39;00m \u001b[38;5;28misinstance\u001b[39m(handle, \u001b[38;5;28mstr\u001b[39m):\n\u001b[1;32m    869\u001b[0m     \u001b[38;5;66;03m# Check whether the filename is to be opened in binary mode.\u001b[39;00m\n\u001b[1;32m    870\u001b[0m     \u001b[38;5;66;03m# Binary mode does not support 'encoding' and 'newline'.\u001b[39;00m\n\u001b[1;32m    871\u001b[0m     \u001b[38;5;28;01mif\u001b[39;00m ioargs\u001b[38;5;241m.\u001b[39mencoding \u001b[38;5;129;01mand\u001b[39;00m \u001b[38;5;124m\"\u001b[39m\u001b[38;5;124mb\u001b[39m\u001b[38;5;124m\"\u001b[39m \u001b[38;5;129;01mnot\u001b[39;00m \u001b[38;5;129;01min\u001b[39;00m ioargs\u001b[38;5;241m.\u001b[39mmode:\n\u001b[1;32m    872\u001b[0m         \u001b[38;5;66;03m# Encoding\u001b[39;00m\n\u001b[0;32m--> 873\u001b[0m         handle \u001b[38;5;241m=\u001b[39m \u001b[38;5;28mopen\u001b[39m(\n\u001b[1;32m    874\u001b[0m             handle,\n\u001b[1;32m    875\u001b[0m             ioargs\u001b[38;5;241m.\u001b[39mmode,\n\u001b[1;32m    876\u001b[0m             encoding\u001b[38;5;241m=\u001b[39mioargs\u001b[38;5;241m.\u001b[39mencoding,\n\u001b[1;32m    877\u001b[0m             errors\u001b[38;5;241m=\u001b[39merrors,\n\u001b[1;32m    878\u001b[0m             newline\u001b[38;5;241m=\u001b[39m\u001b[38;5;124m\"\u001b[39m\u001b[38;5;124m\"\u001b[39m,\n\u001b[1;32m    879\u001b[0m         )\n\u001b[1;32m    880\u001b[0m     \u001b[38;5;28;01melse\u001b[39;00m:\n\u001b[1;32m    881\u001b[0m         \u001b[38;5;66;03m# Binary mode\u001b[39;00m\n\u001b[1;32m    882\u001b[0m         handle \u001b[38;5;241m=\u001b[39m \u001b[38;5;28mopen\u001b[39m(handle, ioargs\u001b[38;5;241m.\u001b[39mmode)\n",
      "\u001b[0;31mFileNotFoundError\u001b[0m: [Errno 2] No such file or directory: '/Users/dmatekenya/Library/CloudStorage/GoogleDrive-dmatekenya@gmail.com/My Drive/TEACHING/AIMS-DSCBI/data/population/malawi-ea-population.csv'"
     ]
    }
   ],
   "source": [
    " # Get population by district for Malawi\n",
    " df_pop_ea = pd.read_csv(FILE_POP_MW)\n",
    " df_dist = df_pop_ea.groupby('DIST_NAME')['TOTAL_POP'].sum().reset_index()"
   ]
  },
  {
   "cell_type": "code",
   "execution_count": null,
   "id": "d2bc244a",
   "metadata": {},
   "outputs": [
    {
     "name": "stdout",
     "output_type": "stream",
     "text": [
      "============================================================\n",
      " Malawi, Chichewa Speakers Based on District of Residence\n",
      "============================================================\n",
      "Chichewa speaking population: 12,747,340.0\n"
     ]
    }
   ],
   "source": [
    "# Chichewa Speaking Districts\n",
    "print(\"=\"*60)\n",
    "print(\" Malawi, Chichewa Speakers Based on District of Residence\")\n",
    "print(\"=\"*60)\n",
    "pop = mw_estimate_chichewa_speakers_by_district(dist_pop=df_dist)\n",
    "print('Chichewa speaking population: {:,}'.format(pop))"
   ]
  },
  {
   "cell_type": "markdown",
   "id": "428487e8",
   "metadata": {},
   "source": [
    "## Chichewa speakers in Malawi Based on DHS Data\n",
    "In the Demographic and Health Survey (DHS), we estimate the number of Chichewa speakers using responses to the question on the primary language spoken by the respondent.  \n",
    "While the DHS does not provide exhaustive linguistic data, the self-reported language question offers a useful proxy for estimating language distribution across the population.  \n",
    "This approach allows us to approximate the number of Chichewa speakers based on individual-level survey data that is nationally representative."
   ]
  },
  {
   "cell_type": "code",
   "execution_count": null,
   "id": "f759c956-40cc-416b-b9dd-8cd770c67099",
   "metadata": {
    "jupyter": {
     "source_hidden": true
    },
    "tags": []
   },
   "outputs": [],
   "source": [
    "def chich_speaking_pop_DHS_based(stata_file, total_pop, chichewa_lan_codes, \n",
    "                                    dhs_tot_hhs):\n",
    "    \"\"\"\n",
    "    Estimate Chichewa speaking people from DHS survey question\n",
    "    on native language of respondent. \n",
    "    Parameters:\n",
    "    stata_file (str): Path to STATA (.dta) file for household members. Data\n",
    "    can be accessed here: https://dhsprogram.com/data/dataset/Malawi_Standard-DHS_2015.cfm?flag=0\n",
    "    total_pop (int): Total population for the country\n",
    "    chichewa_lan_codes(list): which language codes represent chichewa. For example: [2], [2,3]\n",
    "    dhs_tot_hhs(int): Total number of househols in DHS, for verification purpose.\n",
    "    \n",
    "    Returns:\n",
    "    int:Population of Chichewa speakers in MW\n",
    "\n",
    "   \"\"\"\n",
    "    # Load the stata file\n",
    "    df = pd.read_stata(stata_file, convert_categoricals=False)\n",
    "    \n",
    "    # Rename the columns\n",
    "    # Grab these from STATA-Do file available in same folder as the data\n",
    "    cols = {'hv045b': 'intv_lan', 'hv045c':'resp_nativ_lan', 'hv046': 'translator', \n",
    "        'hv002':'hh_num','hv005': 'weight',\n",
    " 'hv045a': 'qn_lan', 'hv001':  \"cluster_number\", 'hv004':   \"area_unit\"}\n",
    "    keep_cols = ['hhid'] + list(cols.keys())\n",
    "    df = df[keep_cols]\n",
    "    df.rename(columns=cols, inplace=True)\n",
    "    df['hh_id'] = df.apply(lambda x: \n",
    "                           str(x['cluster_number']).zfill(3) + \n",
    "                           str(x['hh_num']).zfill(3), axis=1)\n",
    "    \n",
    "    # Check that we have all households as expected: 26, 361 as indicated\n",
    "    # in the report \n",
    "    try:\n",
    "        assert df.hh_id.nunique() == dhs_tot_hhs\n",
    "    except:\n",
    "        print('{:,} households from this file compared to {:,} reported number'.format(\n",
    "            df.hh_id.nunique(), dhs_tot_hhs))\n",
    "        print()\n",
    "    \n",
    "    # ========================================\n",
    "    # TABULATE RESPONDENT NATIVE LANGUAGE\n",
    "    # ========================================\n",
    "    # Since we are getting national stats, we\n",
    "    # will not weight \n",
    "    chich_prop = df.resp_nativ_lan.value_counts(normalize=True)[chichewa_lan_codes]\n",
    "    print(chich_prop)\n",
    "    chich_prop_total = chich_prop.sum()\n",
    "    \n",
    "    # Get population from the proportion\n",
    "    chich_pop = int(chich_prop_total*total_pop)\n",
    "    \n",
    "    \n",
    "    return chich_prop_total, chich_pop"
   ]
  },
  {
   "cell_type": "code",
   "execution_count": null,
   "id": "4df4ef89-9424-4950-9eda-8b9984ac4985",
   "metadata": {},
   "outputs": [
    {
     "name": "stdout",
     "output_type": "stream",
     "text": [
      "================================================\n",
      "Based on the 2015-16 Malawi DHS and 2018 census\n",
      "================================================\n",
      "Estimated number of Chichewa speaking people in Malawi is : 15,050,638\n"
     ]
    }
   ],
   "source": [
    "# ===================\n",
    "# Malawi\n",
    "# ===================\n",
    "language_names = {1: \"English\", 2:\"Chichewa\", 3:\"Tumbuka\", 6: \"Other\"}\n",
    "\n",
    "# MW DHS-2015-16 total sample households\n",
    "mw_dhs_hhs = 26361\n",
    "\n",
    "# MW 2018 census population projection\n",
    "# From here: http://www.nsomalawi.mw/images/stories/data_on_line/demography/census_2018/\\\n",
    "# Thematic_Reports/Population%20Projections%202018-2050.pdf\n",
    "mw_proj_pop_2023 = 19809511\n",
    "mw_chich_prop, mw_chich_pop = chich_speaking_pop_DHS_based(stata_file=FILE_MW_DHS, chichewa_lan_codes=[2], \n",
    "                                    total_pop=mw_proj_pop_2023,  \n",
    "                                    dhs_tot_hhs=mw_dhs_hhs)\n",
    "print('================================================')\n",
    "print(' Based on the 2015-16 Malawi DHS and 2018 census')\n",
    "print('================================================')\n",
    "print('Estimated number of Chichewa speaking people in Malawi is : {:,}'.format(mw_chich_pop ))"
   ]
  },
  {
   "cell_type": "markdown",
   "id": "2310a85d-6e31-45ad-a683-4864d8e44edc",
   "metadata": {},
   "source": [
    "## Summary: Chichewa Speaking Population in Malawi"
   ]
  },
  {
   "cell_type": "code",
   "execution_count": null,
   "id": "b59c10a9",
   "metadata": {},
   "outputs": [
    {
     "name": "stdout",
     "output_type": "stream",
     "text": [
      "==============================================================\n",
      "Comparison of Chichewa Speaking Population Estimates (Malawi)\n",
      "==============================================================\n",
      "Based on Tribe: 8,911,770 people\n",
      "Based on District of Residence: 12,747,340 people\n",
      "Based on DHS Survey: 15,050,638 people\n"
     ]
    }
   ],
   "source": [
    "print(\"==============================================================\")\n",
    "print(\"Comparison of Chichewa Speaking Population Estimates (Malawi)\")\n",
    "print(\"==============================================================\")\n",
    "print(f\"Based on Tribe: {6_021_945 + 186_319 + 1_819_347 + 559_887 + 324_272:,} people\")\n",
    "print(f\"Based on District of Residence: {int(pop):,} people\")\n",
    "print(f\"Based on DHS Survey: {mw_chich_pop:,} people\")"
   ]
  }
 ],
 "metadata": {
  "kernelspec": {
   "display_name": "base",
   "language": "python",
   "name": "python3"
  },
  "language_info": {
   "codemirror_mode": {
    "name": "ipython",
    "version": 3
   },
   "file_extension": ".py",
   "mimetype": "text/x-python",
   "name": "python",
   "nbconvert_exporter": "python",
   "pygments_lexer": "ipython3",
   "version": "3.13.5"
  }
 },
 "nbformat": 4,
 "nbformat_minor": 5
}
